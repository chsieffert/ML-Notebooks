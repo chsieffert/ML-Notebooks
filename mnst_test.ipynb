{
  "cells": [
    {
      "cell_type": "code",
      "execution_count": null,
      "id": "5e76454d",
      "metadata": {
        "colab": {
          "base_uri": "https://localhost:8080/"
        },
        "id": "5e76454d",
        "outputId": "59b00bab-2bfa-4980-c0e9-627bc255c1b3"
      },
      "outputs": [
        {
          "output_type": "stream",
          "name": "stdout",
          "text": [
            "(2880, 90000) (2880,)\n"
          ]
        }
      ],
      "source": [
        "import numpy as np\n",
        "import numpy.random as npr\n",
        "import matplotlib.pyplot as plt\n",
        "%matplotlib inline\n",
        "plt.style.use('bmh')\n",
        "\n",
        "# Loading Test Data\n",
        "X_test = np.load('data_test.npy').T\n",
        "t_test = np.load('labels_test.npy')\n",
        "\n",
        "print(X_test.shape, t_test.shape)"
      ]
    },
    {
      "cell_type": "code",
      "execution_count": null,
      "id": "8f3d2250",
      "metadata": {
        "id": "8f3d2250"
      },
      "outputs": [],
      "source": [
        "from sklearn.feature_selection import RFE\n",
        "from sklearn.model_selection import GridSearchCV, cross_val_score\n",
        "from sklearn.decomposition import PCA\n",
        "from sklearn.pipeline import Pipeline\n",
        "from sklearn.preprocessing import MinMaxScaler, StandardScaler\n",
        "from sklearn.svm import SVC\n",
        "from sklearn.linear_model import Lasso, LogisticRegression\n",
        "from sklearn.discriminant_analysis import LinearDiscriminantAnalysis as LDA\n",
        "\n",
        "from PIL import Image\n",
        "\n",
        "from scipy import stats\n",
        "from sklearn.metrics import accuracy_score\n",
        "\n",
        "import warnings\n",
        "warnings.filterwarnings(\"ignore\")"
      ]
    },
    {
      "cell_type": "code",
      "execution_count": null,
      "id": "127dd6be",
      "metadata": {
        "colab": {
          "base_uri": "https://localhost:8080/"
        },
        "id": "127dd6be",
        "outputId": "773efd86-1ee0-4ed2-f56e-f025d610b221"
      },
      "outputs": [
        {
          "output_type": "execute_result",
          "data": {
            "text/plain": [
              "((2880, 90000), (2880, 784))"
            ]
          },
          "metadata": {},
          "execution_count": 3
        }
      ],
      "source": [
        "X_test_sampled = np.empty((len(X_test),28*28))\n",
        "for image in range(len(X_test)):\n",
        "  X_test_sampled[image] = np.reshape(Image.fromarray(X_test[image].reshape(300,300)).resize((28,28)), (784,))\n",
        "\n",
        "X_test.shape, X_test_sampled.shape"
      ]
    },
    {
      "cell_type": "code",
      "execution_count": null,
      "id": "3047eb80",
      "metadata": {
        "id": "3047eb80"
      },
      "outputs": [],
      "source": [
        "X_test_scaled = MinMaxScaler().fit_transform(X_test_sampled)"
      ]
    },
    {
      "cell_type": "code",
      "execution_count": null,
      "id": "10d134c7",
      "metadata": {
        "id": "10d134c7"
      },
      "outputs": [],
      "source": [
        "import joblib\n",
        "\n",
        "rfe_log_reg = joblib.load('rfe_log_reg.pkl')"
      ]
    },
    {
      "cell_type": "code",
      "execution_count": null,
      "id": "c8ae9b28",
      "metadata": {
        "colab": {
          "base_uri": "https://localhost:8080/"
        },
        "id": "c8ae9b28",
        "outputId": "bf8901b8-6590-465d-c514-743cd095733d"
      },
      "outputs": [
        {
          "output_type": "execute_result",
          "data": {
            "text/plain": [
              "(0.37744180338351324, 0.3982526410609312)"
            ]
          },
          "metadata": {},
          "execution_count": 6
        }
      ],
      "source": [
        "scores = cross_val_score(rfe_log_reg, X_test_scaled, t_test,\n",
        "                        scoring='accuracy',\n",
        "                        cv=5)\n",
        "\n",
        "confidence = 0.95\n",
        "stats.t.interval(confidence,\n",
        "                 len(scores)-1,\n",
        "                 loc = scores.mean(),\n",
        "                 scale=scores.std(ddof=1)/np.sqrt(len(scores)))"
      ]
    },
    {
      "cell_type": "code",
      "execution_count": null,
      "id": "c450ccd2",
      "metadata": {
        "colab": {
          "base_uri": "https://localhost:8080/"
        },
        "id": "c450ccd2",
        "outputId": "5973ef48-7d10-4aa8-b8d6-6e16aa67a831"
      },
      "outputs": [
        {
          "output_type": "stream",
          "name": "stdout",
          "text": [
            "Accuracy in Test: 42.395833333333336 %\n"
          ]
        }
      ],
      "source": [
        "y_test = rfe_log_reg.predict(X_test_scaled)\n",
        "print('Accuracy in Test:', accuracy_score(t_test, y_test)*100,'%')"
      ]
    },
    {
      "cell_type": "code",
      "source": [
        "rfe_l1 = joblib.load('rfe_l1.pkl')"
      ],
      "metadata": {
        "id": "VgMPLt6Z1IGP"
      },
      "id": "VgMPLt6Z1IGP",
      "execution_count": null,
      "outputs": []
    },
    {
      "cell_type": "code",
      "source": [
        "scores = cross_val_score(rfe_l1, X_test_scaled, t_test,\n",
        "                        scoring='accuracy',\n",
        "                        cv=5)\n",
        "\n",
        "confidence = 0.95\n",
        "stats.t.interval(confidence,\n",
        "                 len(scores)-1,\n",
        "                 loc = scores.mean(),\n",
        "                 scale=scores.std(ddof=1)/np.sqrt(len(scores)))"
      ],
      "metadata": {
        "colab": {
          "base_uri": "https://localhost:8080/"
        },
        "id": "biSqt70h1KgM",
        "outputId": "80aa293d-a93f-4ec4-c601-03ea3914fe76"
      },
      "id": "biSqt70h1KgM",
      "execution_count": null,
      "outputs": [
        {
          "output_type": "execute_result",
          "data": {
            "text/plain": [
              "(nan, nan)"
            ]
          },
          "metadata": {},
          "execution_count": 9
        }
      ]
    },
    {
      "cell_type": "code",
      "source": [
        "y_test = rfe_l1.predict(X_test_scaled).astype('int')\n",
        "print('Accuracy in Test:', accuracy_score(t_test, y_test)*100,'%')"
      ],
      "metadata": {
        "id": "IhMhCb221ShT",
        "outputId": "5ad96a1f-8cee-4170-a327-dfeb8b327fb0",
        "colab": {
          "base_uri": "https://localhost:8080/"
        }
      },
      "id": "IhMhCb221ShT",
      "execution_count": null,
      "outputs": [
        {
          "output_type": "stream",
          "name": "stdout",
          "text": [
            "Accuracy in Test: 10.729166666666666 %\n"
          ]
        }
      ]
    },
    {
      "cell_type": "code",
      "source": [
        "svm_PCA = joblib.load('svm_PCA.pkl')"
      ],
      "metadata": {
        "id": "K9IrgBpq2_p8"
      },
      "id": "K9IrgBpq2_p8",
      "execution_count": null,
      "outputs": []
    },
    {
      "cell_type": "code",
      "source": [
        "scores = cross_val_score(svm_PCA, X_test_scaled, t_test,\n",
        "                        scoring='accuracy',\n",
        "                        cv=5)\n",
        "\n",
        "confidence = 0.95\n",
        "stats.t.interval(confidence,\n",
        "                 len(scores)-1,\n",
        "                 loc = scores.mean(),\n",
        "                 scale=scores.std(ddof=1)/np.sqrt(len(scores)))"
      ],
      "metadata": {
        "colab": {
          "base_uri": "https://localhost:8080/"
        },
        "id": "dtY5IQUs3F2J",
        "outputId": "e9ca9b45-0a02-4bd6-cada-89af817b0fd0"
      },
      "id": "dtY5IQUs3F2J",
      "execution_count": null,
      "outputs": [
        {
          "output_type": "execute_result",
          "data": {
            "text/plain": [
              "(0.40733407018583145, 0.437110374258613)"
            ]
          },
          "metadata": {},
          "execution_count": 22
        }
      ]
    },
    {
      "cell_type": "code",
      "source": [
        "y_test = svm_PCA.predict(X_test_scaled)\n",
        "print('Accuracy in Test:', accuracy_score(t_test, y_test)*100,'%')"
      ],
      "metadata": {
        "colab": {
          "base_uri": "https://localhost:8080/"
        },
        "id": "tcTvWb7F3JFl",
        "outputId": "8f150a75-065f-4c68-bd7c-515aac43b952"
      },
      "id": "tcTvWb7F3JFl",
      "execution_count": null,
      "outputs": [
        {
          "output_type": "stream",
          "name": "stdout",
          "text": [
            "Accuracy in Test: 10.243055555555555 %\n"
          ]
        }
      ]
    },
    {
      "cell_type": "code",
      "source": [
        "grid_pipe_manifold = joblib.load('grid_pipe_manifold.pkl')"
      ],
      "metadata": {
        "id": "R9A_dWWO3XAC"
      },
      "id": "R9A_dWWO3XAC",
      "execution_count": null,
      "outputs": []
    },
    {
      "cell_type": "code",
      "source": [
        "scores = cross_val_score(grid_pipe_manifold, X_test_scaled, t_test,\n",
        "                        scoring='accuracy',\n",
        "                        cv=5)\n",
        "\n",
        "confidence = 0.95\n",
        "stats.t.interval(confidence,\n",
        "                 len(scores)-1,\n",
        "                 loc = scores.mean(),\n",
        "                 scale=scores.std(ddof=1)/np.sqrt(len(scores)))"
      ],
      "metadata": {
        "colab": {
          "base_uri": "https://localhost:8080/"
        },
        "id": "T-gAQuOR3j4i",
        "outputId": "b1f40946-837b-41fd-e7b7-779c8dcd576d"
      },
      "id": "T-gAQuOR3j4i",
      "execution_count": null,
      "outputs": [
        {
          "output_type": "execute_result",
          "data": {
            "text/plain": [
              "(0.11291103617799035, 0.11972785271089854)"
            ]
          },
          "metadata": {},
          "execution_count": 26
        }
      ]
    },
    {
      "cell_type": "code",
      "source": [
        "y_test = grid_pipe_manifold.predict(X_test_scaled)\n",
        "print('Accuracy in Test:', accuracy_score(t_test, y_test)*100,'%')"
      ],
      "metadata": {
        "colab": {
          "base_uri": "https://localhost:8080/"
        },
        "id": "6nDC8dW43xsn",
        "outputId": "9aa1fe5b-0c26-4d0c-be7b-5869e2cf3032"
      },
      "id": "6nDC8dW43xsn",
      "execution_count": null,
      "outputs": [
        {
          "output_type": "stream",
          "name": "stdout",
          "text": [
            "Accuracy in Test: 12.083333333333334 %\n"
          ]
        }
      ]
    }
  ],
  "metadata": {
    "kernelspec": {
      "display_name": "Python 3 (ipykernel)",
      "language": "python",
      "name": "python3"
    },
    "language_info": {
      "codemirror_mode": {
        "name": "ipython",
        "version": 3
      },
      "file_extension": ".py",
      "mimetype": "text/x-python",
      "name": "python",
      "nbconvert_exporter": "python",
      "pygments_lexer": "ipython3",
      "version": "3.9.13"
    },
    "colab": {
      "provenance": []
    }
  },
  "nbformat": 4,
  "nbformat_minor": 5
}