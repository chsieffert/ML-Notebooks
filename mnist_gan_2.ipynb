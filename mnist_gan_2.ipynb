{
  "nbformat": 4,
  "nbformat_minor": 0,
  "metadata": {
    "colab": {
      "provenance": [],
      "gpuType": "T4"
    },
    "kernelspec": {
      "name": "python3",
      "display_name": "Python 3"
    },
    "language_info": {
      "name": "python"
    },
    "accelerator": "GPU"
  },
  "cells": [
    {
      "cell_type": "markdown",
      "source": [
        "#PyTorch Powered MNIST GAN\n",
        "This notebook is a small scale experiment building a generative adversarial network to create hand written digits. The network is trained on the MNIST dataset, one of the most common handwritten numerical datasets in the machine learning community."
      ],
      "metadata": {
        "id": "hskbeLoF6zI-"
      }
    },
    {
      "cell_type": "code",
      "execution_count": 22,
      "metadata": {
        "id": "SqgQvRYw6MCM"
      },
      "outputs": [],
      "source": [
        "import torch\n",
        "import torch.nn as nn\n",
        "import torch.nn.functional as F\n",
        "import torch.optim as optim\n",
        "from torchvision import datasets, transforms\n",
        "from torch.autograd import Variable\n",
        "from torchvision.utils import save_image\n",
        "\n",
        "device = torch.device('cuda' if torch.cuda.is_available() else 'cpu')"
      ]
    },
    {
      "cell_type": "code",
      "source": [
        "bs = 100\n",
        "\n",
        "transform = transforms.Compose([\n",
        "    transforms.ToTensor(),\n",
        "    transforms.Normalize(mean=(0.5,), std=(0.5,))]) # One channel as grayscale images instead of 3 channel RGB\n",
        "\n",
        "train_dataset = datasets.MNIST(root='./mnist_data/', train=True, transform=transform, download=True)\n",
        "test_dataset = datasets.MNIST(root='./mnist_data/', train=False, transform=transform, download=False)\n",
        "\n",
        "train_loader = torch.utils.data.DataLoader(dataset=train_dataset, batch_size=bs, shuffle=True)\n",
        "test_loader = torch.utils.data.DataLoader(dataset=test_dataset, batch_size=bs, shuffle=False)"
      ],
      "metadata": {
        "id": "NCewwUFd7NMy"
      },
      "execution_count": 31,
      "outputs": []
    },
    {
      "cell_type": "code",
      "source": [
        "class Generator(nn.Module):\n",
        "    def __init__(self, g_input_dim, g_output_dim):\n",
        "        super(Generator, self).__init__()\n",
        "        self.fc1 = nn.Linear(g_input_dim, 256)\n",
        "        self.fc2 = nn.Linear(self.fc1.out_features, self.fc1.out_features*2)\n",
        "        self.fc3 = nn.Linear(self.fc2.out_features, self.fc2.out_features*2)\n",
        "        self.fc4 = nn.Linear(self.fc3.out_features, g_output_dim)\n",
        "\n",
        "    # forward method\n",
        "    def forward(self, x):\n",
        "        x = F.leaky_relu(self.fc1(x), 0.2)\n",
        "        x = F.leaky_relu(self.fc2(x), 0.2)\n",
        "        x = F.leaky_relu(self.fc3(x), 0.2)\n",
        "        return torch.tanh(self.fc4(x))\n",
        "\n",
        "class Discriminator(nn.Module):\n",
        "    def __init__(self, d_input_dim):\n",
        "        super(Discriminator, self).__init__()\n",
        "        self.fc1 = nn.Linear(d_input_dim, 1024)\n",
        "        self.fc2 = nn.Linear(self.fc1.out_features, self.fc1.out_features//2)\n",
        "        self.fc3 = nn.Linear(self.fc2.out_features, self.fc2.out_features//2)\n",
        "        self.fc4 = nn.Linear(self.fc3.out_features, 1)\n",
        "\n",
        "    # forward method\n",
        "    def forward(self, x):\n",
        "        x = F.leaky_relu(self.fc1(x), 0.2)\n",
        "        x = F.dropout(x, 0.3)\n",
        "        x = F.leaky_relu(self.fc2(x), 0.2)\n",
        "        x = F.dropout(x, 0.3)\n",
        "        x = F.leaky_relu(self.fc3(x), 0.2)\n",
        "        x = F.dropout(x, 0.3)\n",
        "        return torch.sigmoid(self.fc4(x))"
      ],
      "metadata": {
        "id": "q4NtYjCDDANl"
      },
      "execution_count": 32,
      "outputs": []
    },
    {
      "cell_type": "code",
      "source": [
        "# build network\n",
        "z_dim = 100\n",
        "mnist_dim = train_dataset.data.size(1) * train_dataset.data.size(2)\n",
        "\n",
        "G = Generator(g_input_dim = z_dim, g_output_dim = mnist_dim).to(device)\n",
        "D = Discriminator(mnist_dim).to(device)\n",
        "\n",
        "print(G, D)"
      ],
      "metadata": {
        "colab": {
          "base_uri": "https://localhost:8080/"
        },
        "id": "wBt4YTjAAuZI",
        "outputId": "0c3788ae-017f-49ed-9a63-42ce4b955586"
      },
      "execution_count": 33,
      "outputs": [
        {
          "output_type": "stream",
          "name": "stdout",
          "text": [
            "Generator(\n",
            "  (fc1): Linear(in_features=100, out_features=256, bias=True)\n",
            "  (fc2): Linear(in_features=256, out_features=512, bias=True)\n",
            "  (fc3): Linear(in_features=512, out_features=1024, bias=True)\n",
            "  (fc4): Linear(in_features=1024, out_features=784, bias=True)\n",
            ") Discriminator(\n",
            "  (fc1): Linear(in_features=784, out_features=1024, bias=True)\n",
            "  (fc2): Linear(in_features=1024, out_features=512, bias=True)\n",
            "  (fc3): Linear(in_features=512, out_features=256, bias=True)\n",
            "  (fc4): Linear(in_features=256, out_features=1, bias=True)\n",
            ")\n"
          ]
        }
      ]
    },
    {
      "cell_type": "code",
      "source": [
        "# loss\n",
        "criterion = nn.BCELoss()\n",
        "\n",
        "# optimizer\n",
        "lr = 0.0002\n",
        "G_optimizer = optim.Adam(G.parameters(), lr = lr)\n",
        "D_optimizer = optim.Adam(D.parameters(), lr = lr)"
      ],
      "metadata": {
        "id": "YTkTLTWyBLXt"
      },
      "execution_count": 34,
      "outputs": []
    },
    {
      "cell_type": "code",
      "source": [
        "def D_train(x):\n",
        "    #=======================Train the discriminator=======================#\n",
        "    D.zero_grad()\n",
        "\n",
        "    # train discriminator on real\n",
        "    x_real, y_real = x.view(-1, mnist_dim), torch.ones(bs, 1)\n",
        "    x_real, y_real = Variable(x_real.to(device)), Variable(y_real.to(device))\n",
        "\n",
        "    D_output = D(x_real)\n",
        "    D_real_loss = criterion(D_output, y_real)\n",
        "    D_real_score = D_output\n",
        "\n",
        "    # train discriminator on facke\n",
        "    z = Variable(torch.randn(bs, z_dim).to(device))\n",
        "    x_fake, y_fake = G(z), Variable(torch.zeros(bs, 1).to(device))\n",
        "\n",
        "    D_output = D(x_fake)\n",
        "    D_fake_loss = criterion(D_output, y_fake)\n",
        "    D_fake_score = D_output\n",
        "\n",
        "    # gradient backprop & optimize ONLY D's parameters\n",
        "    D_loss = D_real_loss + D_fake_loss\n",
        "    D_loss.backward()\n",
        "    D_optimizer.step()\n",
        "\n",
        "    return  D_loss.data.item()"
      ],
      "metadata": {
        "id": "tm_pG7KkDO2I"
      },
      "execution_count": 35,
      "outputs": []
    },
    {
      "cell_type": "code",
      "source": [
        "def G_train(x):\n",
        "    #=======================Train the generator=======================#\n",
        "    G.zero_grad()\n",
        "\n",
        "    z = Variable(torch.randn(bs, z_dim).to(device))\n",
        "    y = Variable(torch.ones(bs, 1).to(device))\n",
        "\n",
        "    G_output = G(z)\n",
        "    D_output = D(G_output)\n",
        "    G_loss = criterion(D_output, y)\n",
        "\n",
        "    # gradient backprop & optimize ONLY G's parameters\n",
        "    G_loss.backward()\n",
        "    G_optimizer.step()\n",
        "\n",
        "    return G_loss.data.item()"
      ],
      "metadata": {
        "id": "gnD0f8sxDRDb"
      },
      "execution_count": 36,
      "outputs": []
    },
    {
      "cell_type": "code",
      "source": [
        "n_epoch = 200\n",
        "for epoch in range(1, n_epoch+1):\n",
        "    D_losses, G_losses = [], []\n",
        "    for batch_idx, (x, _) in enumerate(train_loader):\n",
        "        D_losses.append(D_train(x))\n",
        "        G_losses.append(G_train(x))\n",
        "\n",
        "    print('[%d/%d]: loss_d: %.3f, loss_g: %.3f' % (\n",
        "            (epoch), n_epoch, torch.mean(torch.FloatTensor(D_losses)), torch.mean(torch.FloatTensor(G_losses))))"
      ],
      "metadata": {
        "colab": {
          "base_uri": "https://localhost:8080/"
        },
        "id": "Lt8n7eYvBUON",
        "outputId": "45a9126d-71a1-419b-c119-cc64d5b5a6d3"
      },
      "execution_count": 37,
      "outputs": [
        {
          "output_type": "stream",
          "name": "stdout",
          "text": [
            "[1/200]: loss_d: 1.090, loss_g: 2.087\n",
            "[2/200]: loss_d: 1.224, loss_g: 1.340\n",
            "[3/200]: loss_d: 1.326, loss_g: 1.138\n",
            "[4/200]: loss_d: 1.003, loss_g: 1.577\n",
            "[5/200]: loss_d: 0.747, loss_g: 2.250\n",
            "[6/200]: loss_d: 0.598, loss_g: 2.302\n",
            "[7/200]: loss_d: 0.631, loss_g: 2.295\n",
            "[8/200]: loss_d: 0.560, loss_g: 2.560\n",
            "[9/200]: loss_d: 0.629, loss_g: 2.561\n",
            "[10/200]: loss_d: 0.659, loss_g: 2.229\n",
            "[11/200]: loss_d: 0.702, loss_g: 2.156\n",
            "[12/200]: loss_d: 0.729, loss_g: 2.046\n",
            "[13/200]: loss_d: 0.812, loss_g: 1.893\n",
            "[14/200]: loss_d: 0.737, loss_g: 2.046\n",
            "[15/200]: loss_d: 0.768, loss_g: 1.965\n",
            "[16/200]: loss_d: 0.784, loss_g: 1.957\n",
            "[17/200]: loss_d: 0.845, loss_g: 1.811\n",
            "[18/200]: loss_d: 0.838, loss_g: 1.775\n",
            "[19/200]: loss_d: 0.835, loss_g: 1.791\n",
            "[20/200]: loss_d: 0.828, loss_g: 1.787\n",
            "[21/200]: loss_d: 0.924, loss_g: 1.560\n",
            "[22/200]: loss_d: 0.938, loss_g: 1.541\n",
            "[23/200]: loss_d: 0.916, loss_g: 1.583\n",
            "[24/200]: loss_d: 0.963, loss_g: 1.480\n",
            "[25/200]: loss_d: 0.964, loss_g: 1.476\n",
            "[26/200]: loss_d: 0.952, loss_g: 1.531\n",
            "[27/200]: loss_d: 0.950, loss_g: 1.488\n",
            "[28/200]: loss_d: 0.974, loss_g: 1.488\n",
            "[29/200]: loss_d: 0.987, loss_g: 1.441\n",
            "[30/200]: loss_d: 1.014, loss_g: 1.362\n",
            "[31/200]: loss_d: 1.034, loss_g: 1.330\n",
            "[32/200]: loss_d: 1.055, loss_g: 1.291\n",
            "[33/200]: loss_d: 1.056, loss_g: 1.300\n",
            "[34/200]: loss_d: 1.063, loss_g: 1.280\n",
            "[35/200]: loss_d: 1.071, loss_g: 1.266\n",
            "[36/200]: loss_d: 1.071, loss_g: 1.255\n",
            "[37/200]: loss_d: 1.055, loss_g: 1.294\n",
            "[38/200]: loss_d: 1.087, loss_g: 1.217\n",
            "[39/200]: loss_d: 1.076, loss_g: 1.244\n",
            "[40/200]: loss_d: 1.110, loss_g: 1.194\n",
            "[41/200]: loss_d: 1.116, loss_g: 1.177\n",
            "[42/200]: loss_d: 1.113, loss_g: 1.187\n",
            "[43/200]: loss_d: 1.097, loss_g: 1.214\n",
            "[44/200]: loss_d: 1.090, loss_g: 1.232\n",
            "[45/200]: loss_d: 1.116, loss_g: 1.179\n",
            "[46/200]: loss_d: 1.124, loss_g: 1.166\n",
            "[47/200]: loss_d: 1.140, loss_g: 1.127\n",
            "[48/200]: loss_d: 1.140, loss_g: 1.135\n",
            "[49/200]: loss_d: 1.165, loss_g: 1.071\n",
            "[50/200]: loss_d: 1.160, loss_g: 1.094\n",
            "[51/200]: loss_d: 1.168, loss_g: 1.087\n",
            "[52/200]: loss_d: 1.167, loss_g: 1.091\n",
            "[53/200]: loss_d: 1.171, loss_g: 1.073\n",
            "[54/200]: loss_d: 1.181, loss_g: 1.059\n",
            "[55/200]: loss_d: 1.171, loss_g: 1.086\n",
            "[56/200]: loss_d: 1.174, loss_g: 1.071\n",
            "[57/200]: loss_d: 1.188, loss_g: 1.040\n",
            "[58/200]: loss_d: 1.183, loss_g: 1.050\n",
            "[59/200]: loss_d: 1.198, loss_g: 1.032\n",
            "[60/200]: loss_d: 1.184, loss_g: 1.046\n",
            "[61/200]: loss_d: 1.191, loss_g: 1.035\n",
            "[62/200]: loss_d: 1.200, loss_g: 1.024\n",
            "[63/200]: loss_d: 1.190, loss_g: 1.043\n",
            "[64/200]: loss_d: 1.199, loss_g: 1.032\n",
            "[65/200]: loss_d: 1.206, loss_g: 1.005\n",
            "[66/200]: loss_d: 1.215, loss_g: 0.998\n",
            "[67/200]: loss_d: 1.208, loss_g: 1.006\n",
            "[68/200]: loss_d: 1.208, loss_g: 1.022\n",
            "[69/200]: loss_d: 1.211, loss_g: 0.994\n",
            "[70/200]: loss_d: 1.205, loss_g: 1.014\n",
            "[71/200]: loss_d: 1.210, loss_g: 1.007\n",
            "[72/200]: loss_d: 1.207, loss_g: 1.004\n",
            "[73/200]: loss_d: 1.220, loss_g: 0.997\n",
            "[74/200]: loss_d: 1.215, loss_g: 1.003\n",
            "[75/200]: loss_d: 1.219, loss_g: 0.991\n",
            "[76/200]: loss_d: 1.221, loss_g: 0.984\n",
            "[77/200]: loss_d: 1.222, loss_g: 0.985\n",
            "[78/200]: loss_d: 1.227, loss_g: 0.970\n",
            "[79/200]: loss_d: 1.221, loss_g: 0.989\n",
            "[80/200]: loss_d: 1.230, loss_g: 0.967\n",
            "[81/200]: loss_d: 1.238, loss_g: 0.960\n",
            "[82/200]: loss_d: 1.237, loss_g: 0.960\n",
            "[83/200]: loss_d: 1.248, loss_g: 0.941\n",
            "[84/200]: loss_d: 1.240, loss_g: 0.957\n",
            "[85/200]: loss_d: 1.242, loss_g: 0.951\n",
            "[86/200]: loss_d: 1.250, loss_g: 0.944\n",
            "[87/200]: loss_d: 1.247, loss_g: 0.936\n",
            "[88/200]: loss_d: 1.261, loss_g: 0.928\n",
            "[89/200]: loss_d: 1.256, loss_g: 0.933\n",
            "[90/200]: loss_d: 1.246, loss_g: 0.940\n",
            "[91/200]: loss_d: 1.258, loss_g: 0.922\n",
            "[92/200]: loss_d: 1.258, loss_g: 0.922\n",
            "[93/200]: loss_d: 1.259, loss_g: 0.931\n",
            "[94/200]: loss_d: 1.243, loss_g: 0.954\n",
            "[95/200]: loss_d: 1.251, loss_g: 0.930\n",
            "[96/200]: loss_d: 1.254, loss_g: 0.944\n",
            "[97/200]: loss_d: 1.251, loss_g: 0.932\n",
            "[98/200]: loss_d: 1.252, loss_g: 0.936\n",
            "[99/200]: loss_d: 1.252, loss_g: 0.933\n",
            "[100/200]: loss_d: 1.255, loss_g: 0.923\n",
            "[101/200]: loss_d: 1.257, loss_g: 0.919\n",
            "[102/200]: loss_d: 1.267, loss_g: 0.905\n",
            "[103/200]: loss_d: 1.262, loss_g: 0.920\n",
            "[104/200]: loss_d: 1.260, loss_g: 0.922\n",
            "[105/200]: loss_d: 1.264, loss_g: 0.918\n",
            "[106/200]: loss_d: 1.261, loss_g: 0.911\n",
            "[107/200]: loss_d: 1.263, loss_g: 0.915\n",
            "[108/200]: loss_d: 1.265, loss_g: 0.907\n",
            "[109/200]: loss_d: 1.272, loss_g: 0.903\n",
            "[110/200]: loss_d: 1.270, loss_g: 0.898\n",
            "[111/200]: loss_d: 1.279, loss_g: 0.900\n",
            "[112/200]: loss_d: 1.273, loss_g: 0.903\n",
            "[113/200]: loss_d: 1.270, loss_g: 0.907\n",
            "[114/200]: loss_d: 1.272, loss_g: 0.900\n",
            "[115/200]: loss_d: 1.276, loss_g: 0.888\n",
            "[116/200]: loss_d: 1.270, loss_g: 0.902\n",
            "[117/200]: loss_d: 1.273, loss_g: 0.897\n",
            "[118/200]: loss_d: 1.270, loss_g: 0.907\n",
            "[119/200]: loss_d: 1.269, loss_g: 0.906\n",
            "[120/200]: loss_d: 1.270, loss_g: 0.897\n",
            "[121/200]: loss_d: 1.271, loss_g: 0.896\n",
            "[122/200]: loss_d: 1.272, loss_g: 0.900\n",
            "[123/200]: loss_d: 1.274, loss_g: 0.904\n",
            "[124/200]: loss_d: 1.271, loss_g: 0.891\n",
            "[125/200]: loss_d: 1.269, loss_g: 0.904\n",
            "[126/200]: loss_d: 1.268, loss_g: 0.908\n",
            "[127/200]: loss_d: 1.278, loss_g: 0.890\n",
            "[128/200]: loss_d: 1.265, loss_g: 0.908\n",
            "[129/200]: loss_d: 1.277, loss_g: 0.884\n",
            "[130/200]: loss_d: 1.277, loss_g: 0.887\n",
            "[131/200]: loss_d: 1.272, loss_g: 0.897\n",
            "[132/200]: loss_d: 1.279, loss_g: 0.891\n",
            "[133/200]: loss_d: 1.275, loss_g: 0.883\n",
            "[134/200]: loss_d: 1.282, loss_g: 0.881\n",
            "[135/200]: loss_d: 1.279, loss_g: 0.888\n",
            "[136/200]: loss_d: 1.280, loss_g: 0.885\n",
            "[137/200]: loss_d: 1.275, loss_g: 0.895\n",
            "[138/200]: loss_d: 1.277, loss_g: 0.892\n",
            "[139/200]: loss_d: 1.276, loss_g: 0.890\n",
            "[140/200]: loss_d: 1.282, loss_g: 0.886\n",
            "[141/200]: loss_d: 1.274, loss_g: 0.902\n",
            "[142/200]: loss_d: 1.266, loss_g: 0.910\n",
            "[143/200]: loss_d: 1.277, loss_g: 0.895\n",
            "[144/200]: loss_d: 1.281, loss_g: 0.880\n",
            "[145/200]: loss_d: 1.282, loss_g: 0.877\n",
            "[146/200]: loss_d: 1.286, loss_g: 0.878\n",
            "[147/200]: loss_d: 1.278, loss_g: 0.884\n",
            "[148/200]: loss_d: 1.278, loss_g: 0.886\n",
            "[149/200]: loss_d: 1.283, loss_g: 0.877\n",
            "[150/200]: loss_d: 1.286, loss_g: 0.874\n",
            "[151/200]: loss_d: 1.280, loss_g: 0.884\n",
            "[152/200]: loss_d: 1.286, loss_g: 0.880\n",
            "[153/200]: loss_d: 1.283, loss_g: 0.878\n",
            "[154/200]: loss_d: 1.283, loss_g: 0.878\n",
            "[155/200]: loss_d: 1.283, loss_g: 0.882\n",
            "[156/200]: loss_d: 1.285, loss_g: 0.876\n",
            "[157/200]: loss_d: 1.282, loss_g: 0.888\n",
            "[158/200]: loss_d: 1.283, loss_g: 0.883\n",
            "[159/200]: loss_d: 1.285, loss_g: 0.877\n",
            "[160/200]: loss_d: 1.282, loss_g: 0.882\n",
            "[161/200]: loss_d: 1.287, loss_g: 0.876\n",
            "[162/200]: loss_d: 1.289, loss_g: 0.884\n",
            "[163/200]: loss_d: 1.284, loss_g: 0.875\n",
            "[164/200]: loss_d: 1.284, loss_g: 0.882\n",
            "[165/200]: loss_d: 1.283, loss_g: 0.888\n",
            "[166/200]: loss_d: 1.281, loss_g: 0.885\n",
            "[167/200]: loss_d: 1.281, loss_g: 0.880\n",
            "[168/200]: loss_d: 1.288, loss_g: 0.864\n",
            "[169/200]: loss_d: 1.284, loss_g: 0.880\n",
            "[170/200]: loss_d: 1.284, loss_g: 0.881\n",
            "[171/200]: loss_d: 1.285, loss_g: 0.880\n",
            "[172/200]: loss_d: 1.286, loss_g: 0.871\n",
            "[173/200]: loss_d: 1.285, loss_g: 0.878\n",
            "[174/200]: loss_d: 1.286, loss_g: 0.873\n",
            "[175/200]: loss_d: 1.289, loss_g: 0.870\n",
            "[176/200]: loss_d: 1.289, loss_g: 0.867\n",
            "[177/200]: loss_d: 1.286, loss_g: 0.878\n",
            "[178/200]: loss_d: 1.285, loss_g: 0.875\n",
            "[179/200]: loss_d: 1.293, loss_g: 0.869\n",
            "[180/200]: loss_d: 1.279, loss_g: 0.892\n",
            "[181/200]: loss_d: 1.280, loss_g: 0.892\n",
            "[182/200]: loss_d: 1.289, loss_g: 0.872\n",
            "[183/200]: loss_d: 1.285, loss_g: 0.873\n",
            "[184/200]: loss_d: 1.288, loss_g: 0.868\n",
            "[185/200]: loss_d: 1.288, loss_g: 0.873\n",
            "[186/200]: loss_d: 1.287, loss_g: 0.879\n",
            "[187/200]: loss_d: 1.286, loss_g: 0.869\n",
            "[188/200]: loss_d: 1.292, loss_g: 0.870\n",
            "[189/200]: loss_d: 1.291, loss_g: 0.870\n",
            "[190/200]: loss_d: 1.289, loss_g: 0.872\n",
            "[191/200]: loss_d: 1.284, loss_g: 0.877\n",
            "[192/200]: loss_d: 1.289, loss_g: 0.868\n",
            "[193/200]: loss_d: 1.285, loss_g: 0.880\n",
            "[194/200]: loss_d: 1.288, loss_g: 0.876\n",
            "[195/200]: loss_d: 1.287, loss_g: 0.868\n",
            "[196/200]: loss_d: 1.288, loss_g: 0.873\n",
            "[197/200]: loss_d: 1.286, loss_g: 0.884\n",
            "[198/200]: loss_d: 1.288, loss_g: 0.879\n",
            "[199/200]: loss_d: 1.294, loss_g: 0.852\n",
            "[200/200]: loss_d: 1.286, loss_g: 0.873\n"
          ]
        }
      ]
    },
    {
      "cell_type": "code",
      "source": [
        "with torch.no_grad():\n",
        "    test_z = Variable(torch.randn(bs, z_dim).to(device))\n",
        "    generated = G(test_z)\n",
        "\n",
        "    save_image(generated.view(generated.size(0), 1, 28, 28), 'output_sample.png')"
      ],
      "metadata": {
        "id": "U3xGkGQ0B1xS"
      },
      "execution_count": 42,
      "outputs": []
    },
    {
      "cell_type": "code",
      "source": [
        "from IPython.display import Image\n",
        "Image('output_sample.png')"
      ],
      "metadata": {
        "colab": {
          "base_uri": "https://localhost:8080/",
          "height": 409
        },
        "id": "xNm_MKDhRvAo",
        "outputId": "cdad9b3b-597f-4f30-8cb4-f86d7db78121"
      },
      "execution_count": 43,
      "outputs": [
        {
          "output_type": "execute_result",
          "data": {
            "image/png": "[encoded data removed]",
            "text/plain": [
              "<IPython.core.display.Image object>"
            ]
          },
          "metadata": {},
          "execution_count": 43
        }
      ]
    },
    {
      "cell_type": "markdown",
      "source": [
        "Sources:\n",
        "* [Generative Adversarial Networks](https://arxiv.org/pdf/1406.2661)\n",
        "* [Deep Generative Models, Stanford CS236](https://www.youtube.com/playlist?list=PLoROMvodv4rPOWA-omMM6STXaWW4FvJT8)\n",
        "* [MNIST GAN & DCGAN](https://github.com/znxlwm/pytorch-MNIST-CelebA-GAN-DCGAN)\n",
        "* [MNIST GAN 1](https://github.com/prcastro/pytorch-gan/blob/master/MNIST%20GAN.ipynb)\n",
        "* [MNIST GAN 2](https://github.com/lyeoni/pytorch-mnist-GAN/blob/master/pytorch-mnist-GAN.ipynb)"
      ],
      "metadata": {
        "id": "FS87rAj17UK7"
      }
    }
  ]
}